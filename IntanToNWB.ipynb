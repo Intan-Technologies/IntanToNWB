{
 "cells": [
  {
   "cell_type": "code",
   "execution_count": null,
   "id": "9b6a62de",
   "metadata": {},
   "outputs": [],
   "source": [
    "%run ConverterUI.py"
   ]
  },
  {
   "cell_type": "code",
   "execution_count": null,
   "id": "8bdf4a06-6804-409c-9a76-bfb3774e194a",
   "metadata": {},
   "outputs": [],
   "source": []
  }
 ],
 "metadata": {
  "kernelspec": {
   "display_name": "intan-env",
   "language": "python",
   "name": "intan-env"
  },
  "language_info": {
   "codemirror_mode": {
    "name": "ipython",
    "version": 3
   },
   "file_extension": ".py",
   "mimetype": "text/x-python",
   "name": "python",
   "nbconvert_exporter": "python",
   "pygments_lexer": "ipython3",
   "version": "3.11.5"
  }
 },
 "nbformat": 4,
 "nbformat_minor": 5
}
